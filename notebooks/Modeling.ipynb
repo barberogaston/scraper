{
 "cells": [
  {
   "cell_type": "markdown",
   "id": "dd749ce1",
   "metadata": {},
   "source": [
    "## Imports"
   ]
  },
  {
   "cell_type": "code",
   "execution_count": 1,
   "id": "8d84d386",
   "metadata": {},
   "outputs": [],
   "source": [
    "import pandas as pd\n",
    "import seaborn as sns\n",
    "from sklearn.base import BaseEstimator, TransformerMixin\n",
    "from sklearn.compose import ColumnTransformer\n",
    "from sklearn.impute import SimpleImputer\n",
    "from sklearn.metrics import make_scorer, mean_absolute_percentage_error\n",
    "from sklearn.model_selection import cross_val_score\n",
    "from sklearn.pipeline import make_union, make_pipeline\n",
    "from xgboost import XGBRegressor"
   ]
  },
  {
   "cell_type": "markdown",
   "id": "bd5b609e",
   "metadata": {},
   "source": [
    "## Data loading"
   ]
  },
  {
   "cell_type": "code",
   "execution_count": 2,
   "id": "9f747a06",
   "metadata": {},
   "outputs": [],
   "source": [
    "df = pd.read_parquet('clean_data.parquet')"
   ]
  },
  {
   "cell_type": "markdown",
   "id": "ac4a0732",
   "metadata": {},
   "source": [
    "## Custom transformers"
   ]
  },
  {
   "cell_type": "code",
   "execution_count": 3,
   "id": "384d2590",
   "metadata": {},
   "outputs": [],
   "source": [
    "class ExpensesImputer(BaseEstimator, TransformerMixin):\n",
    "    \"\"\"Imputes the expenses by using the median ratio of expenses\n",
    "    against total price.\"\"\"\n",
    "    def fit(self, X):\n",
    "        return self\n",
    "\n",
    "    def transform(self, X):\n",
    "        mask = X['expenses'].notna()\n",
    "        pct = (X.loc[mask, 'expenses'] /\n",
    "               (X.loc[mask, 'price'] + X.loc[mask, 'expenses'])).median()\n",
    "        X.loc[~mask, 'expenses'] = (X.loc[~mask, 'price'] * pct).astype(int)\n",
    "        return X"
   ]
  },
  {
   "cell_type": "markdown",
   "id": "ac8d2fd2",
   "metadata": {},
   "source": [
    "Impute expenses"
   ]
  },
  {
   "cell_type": "code",
   "execution_count": 4,
   "id": "4d644b99",
   "metadata": {},
   "outputs": [],
   "source": [
    "imputer = ExpensesImputer()\n",
    "df = imputer.fit_transform(df)"
   ]
  },
  {
   "cell_type": "markdown",
   "id": "7ae773df",
   "metadata": {},
   "source": [
    "## Splitting features and labels"
   ]
  },
  {
   "cell_type": "code",
   "execution_count": 5,
   "id": "b0a0d063",
   "metadata": {},
   "outputs": [],
   "source": [
    "feature_cols = [\n",
    "    'total_surface',\n",
    "    'covered_surface',\n",
    "    'has_balcony',\n",
    "    'has_terrace',\n",
    "    'has_balcony_and_terrace',\n",
    "    'rooms',\n",
    "    'is_studio_apartment',\n",
    "    'has_garage'\n",
    "]\n",
    "df.loc[:, 'total_price'] = df['price'] + df['expenses']\n",
    "\n",
    "X = df.loc[:, feature_cols]\n",
    "y = df['total_price']"
   ]
  },
  {
   "cell_type": "markdown",
   "id": "6d848c04",
   "metadata": {},
   "source": [
    "## Model"
   ]
  },
  {
   "cell_type": "markdown",
   "id": "cb605867",
   "metadata": {},
   "source": [
    "Pipeline"
   ]
  },
  {
   "cell_type": "code",
   "execution_count": 6,
   "id": "d47d10f4",
   "metadata": {},
   "outputs": [],
   "source": [
    "model = XGBRegressor()\n",
    "\n",
    "feature_union = make_union(\n",
    "    ColumnTransformer([('rooms_imputer',\n",
    "                        SimpleImputer(strategy='most_frequent'),\n",
    "                        ['rooms'])]),\n",
    "    ColumnTransformer([('passthrough', 'passthrough', ['total_surface',\n",
    "                                                       'covered_surface',\n",
    "                                                       'has_balcony',\n",
    "                                                       'has_terrace',\n",
    "                                                       'has_balcony_and_terrace',\n",
    "                                                       'is_studio_apartment',\n",
    "                                                       'has_garage'])])\n",
    ")\n",
    "\n",
    "pipeline = make_pipeline(\n",
    "    feature_union,\n",
    "    model\n",
    ")"
   ]
  },
  {
   "cell_type": "markdown",
   "id": "0391e24f",
   "metadata": {},
   "source": [
    "Cross validation"
   ]
  },
  {
   "cell_type": "code",
   "execution_count": 7,
   "id": "36f3f04d",
   "metadata": {},
   "outputs": [
    {
     "data": {
      "text/plain": [
       "0.17804575756649244"
      ]
     },
     "execution_count": 7,
     "metadata": {},
     "output_type": "execute_result"
    }
   ],
   "source": [
    "cross_val_score(\n",
    "    pipeline,\n",
    "    X,\n",
    "    y,\n",
    "    scoring=make_scorer(mean_absolute_percentage_error),\n",
    "    cv=5\n",
    ").mean()"
   ]
  },
  {
   "cell_type": "markdown",
   "id": "ad6de921",
   "metadata": {},
   "source": [
    "Refit"
   ]
  },
  {
   "cell_type": "code",
   "execution_count": 8,
   "id": "dd120404",
   "metadata": {},
   "outputs": [],
   "source": [
    "%%capture\n",
    "pipeline.fit(X, y)"
   ]
  },
  {
   "cell_type": "markdown",
   "id": "e468bb0c",
   "metadata": {},
   "source": [
    "Predictions"
   ]
  },
  {
   "cell_type": "code",
   "execution_count": 9,
   "id": "608cbac3",
   "metadata": {},
   "outputs": [],
   "source": [
    "y_pred = pipeline.predict(X)"
   ]
  },
  {
   "cell_type": "markdown",
   "id": "d0c48334",
   "metadata": {},
   "source": [
    "Plot"
   ]
  },
  {
   "cell_type": "code",
   "execution_count": 10,
   "id": "394583e7",
   "metadata": {},
   "outputs": [
    {
     "data": {
      "text/plain": [
       "<AxesSubplot:xlabel='total_price'>"
      ]
     },
     "execution_count": 10,
     "metadata": {},
     "output_type": "execute_result"
    },
    {
     "data": {
      "image/png": "[encoded data removed]",
      "text/plain": [
       "<Figure size 432x288 with 1 Axes>"
      ]
     },
     "metadata": {
      "needs_background": "light"
     },
     "output_type": "display_data"
    }
   ],
   "source": [
    "sns.scatterplot(x=y, y=y_pred)"
   ]
  },
  {
   "cell_type": "markdown",
   "id": "88a200b1",
   "metadata": {},
   "source": [
    "Add predicted price and difference with real"
   ]
  },
  {
   "cell_type": "code",
   "execution_count": 11,
   "id": "f450f1f3",
   "metadata": {},
   "outputs": [],
   "source": [
    "df.loc[:, 'estimated_price'] = y_pred\n",
    "df.loc[:, 'estimated_minus_real'] = df['estimated_price'] - df['total_price']\n",
    "df.loc[:, 'pct_estimated_minus_real'] = df['estimated_minus_real'] / df['total_price']"
   ]
  },
  {
   "cell_type": "markdown",
   "id": "70b5d158",
   "metadata": {},
   "source": [
    "Find rentals with highest difference between predicted price and real price, assuming these are undervalued"
   ]
  },
  {
   "cell_type": "code",
   "execution_count": 12,
   "id": "308a7ae9",
   "metadata": {},
   "outputs": [
    {
     "data": {
      "text/html": [
       "<div>\n",
       "<style scoped>\n",
       "    .dataframe tbody tr th:only-of-type {\n",
       "        vertical-align: middle;\n",
       "    }\n",
       "\n",
       "    .dataframe tbody tr th {\n",
       "        vertical-align: top;\n",
       "    }\n",
       "\n",
       "    .dataframe thead th {\n",
       "        text-align: right;\n",
       "    }\n",
       "</style>\n",
       "<table border=\"1\" class=\"dataframe\">\n",
       "  <thead>\n",
       "    <tr style=\"text-align: right;\">\n",
       "      <th></th>\n",
       "      <th>title</th>\n",
       "      <th>price</th>\n",
       "      <th>expenses</th>\n",
       "      <th>total_surface</th>\n",
       "      <th>balcony_and_terrace</th>\n",
       "      <th>estimated_price</th>\n",
       "    </tr>\n",
       "  </thead>\n",
       "  <tbody>\n",
       "    <tr>\n",
       "      <th>420</th>\n",
       "      <td>Departamento en Alquiler, Nueva Cordoba, Mono ...</td>\n",
       "      <td>12000.0</td>\n",
       "      <td>2100.0</td>\n",
       "      <td>35.0</td>\n",
       "      <td>none</td>\n",
       "      <td>19559.820312</td>\n",
       "    </tr>\n",
       "    <tr>\n",
       "      <th>349</th>\n",
       "      <td>Departamento en Alquiler de 1 Dormitorio en Nu...</td>\n",
       "      <td>15000.0</td>\n",
       "      <td>2857.0</td>\n",
       "      <td>46.0</td>\n",
       "      <td>balcony</td>\n",
       "      <td>24588.085938</td>\n",
       "    </tr>\n",
       "    <tr>\n",
       "      <th>51</th>\n",
       "      <td>Departamento en Alquiler - 1 Dormitorio - Zona...</td>\n",
       "      <td>16000.0</td>\n",
       "      <td>2500.0</td>\n",
       "      <td>45.0</td>\n",
       "      <td>balcony</td>\n",
       "      <td>25211.779297</td>\n",
       "    </tr>\n",
       "    <tr>\n",
       "      <th>306</th>\n",
       "      <td>Alquila: Dpto 1 Drmitorio con Balcon / Nueva C...</td>\n",
       "      <td>14000.0</td>\n",
       "      <td>2666.0</td>\n",
       "      <td>50.0</td>\n",
       "      <td>balcony</td>\n",
       "      <td>22051.390625</td>\n",
       "    </tr>\n",
       "    <tr>\n",
       "      <th>450</th>\n",
       "      <td>Departamento en Alquiler de 1 Dormitorio S - B...</td>\n",
       "      <td>14500.0</td>\n",
       "      <td>4700.0</td>\n",
       "      <td>45.0</td>\n",
       "      <td>balcony</td>\n",
       "      <td>25211.779297</td>\n",
       "    </tr>\n",
       "    <tr>\n",
       "      <th>471</th>\n",
       "      <td>Departamento en Alquiler Obispo Salguero 400</td>\n",
       "      <td>14500.0</td>\n",
       "      <td>5400.0</td>\n",
       "      <td>55.0</td>\n",
       "      <td>balcony</td>\n",
       "      <td>25887.771484</td>\n",
       "    </tr>\n",
       "    <tr>\n",
       "      <th>232</th>\n",
       "      <td>Dpto Monoamb. Alquiler Nva Cordoba Chacabuco 3...</td>\n",
       "      <td>9500.0</td>\n",
       "      <td>4700.0</td>\n",
       "      <td>45.0</td>\n",
       "      <td>none</td>\n",
       "      <td>18466.951172</td>\n",
       "    </tr>\n",
       "    <tr>\n",
       "      <th>242</th>\n",
       "      <td>Alquilo 1 Dorm Nva Cba con Balcón</td>\n",
       "      <td>15000.0</td>\n",
       "      <td>4500.0</td>\n",
       "      <td>45.0</td>\n",
       "      <td>balcony</td>\n",
       "      <td>25211.779297</td>\n",
       "    </tr>\n",
       "    <tr>\n",
       "      <th>292</th>\n",
       "      <td>Alquila: Dpto 1 Dormitorio con 2 Balcones / Nu...</td>\n",
       "      <td>15000.0</td>\n",
       "      <td>2857.0</td>\n",
       "      <td>45.0</td>\n",
       "      <td>balcony</td>\n",
       "      <td>22957.234375</td>\n",
       "    </tr>\n",
       "    <tr>\n",
       "      <th>416</th>\n",
       "      <td>Hermoso Dpto a m de Parque Las Tejas - B° Nuev...</td>\n",
       "      <td>16900.0</td>\n",
       "      <td>4100.0</td>\n",
       "      <td>70.0</td>\n",
       "      <td>none</td>\n",
       "      <td>26775.568359</td>\n",
       "    </tr>\n",
       "    <tr>\n",
       "      <th>351</th>\n",
       "      <td>Departamento en Nva Cba</td>\n",
       "      <td>13500.0</td>\n",
       "      <td>4600.0</td>\n",
       "      <td>45.0</td>\n",
       "      <td>balcony</td>\n",
       "      <td>22957.234375</td>\n",
       "    </tr>\n",
       "    <tr>\n",
       "      <th>39</th>\n",
       "      <td>Cofico - un Dormitorio Sobre Bedoya</td>\n",
       "      <td>14000.0</td>\n",
       "      <td>3300.0</td>\n",
       "      <td>40.0</td>\n",
       "      <td>balcony</td>\n",
       "      <td>21746.689453</td>\n",
       "    </tr>\n",
       "    <tr>\n",
       "      <th>316</th>\n",
       "      <td>Excelente Ubicacion - Pisos Alto - Muy Luminoso</td>\n",
       "      <td>17000.0</td>\n",
       "      <td>3238.0</td>\n",
       "      <td>55.0</td>\n",
       "      <td>balcony</td>\n",
       "      <td>25433.443359</td>\n",
       "    </tr>\n",
       "    <tr>\n",
       "      <th>260</th>\n",
       "      <td>Departamento un Dormitorio Alquiler Nueva Córdoba</td>\n",
       "      <td>14000.0</td>\n",
       "      <td>2666.0</td>\n",
       "      <td>48.0</td>\n",
       "      <td>balcony</td>\n",
       "      <td>20909.875000</td>\n",
       "    </tr>\n",
       "    <tr>\n",
       "      <th>334</th>\n",
       "      <td>Ciudad Universitaria Frente Nueva Manzana Come...</td>\n",
       "      <td>13000.0</td>\n",
       "      <td>2000.0</td>\n",
       "      <td>35.0</td>\n",
       "      <td>none</td>\n",
       "      <td>18767.998047</td>\n",
       "    </tr>\n",
       "  </tbody>\n",
       "</table>\n",
       "</div>"
      ],
      "text/plain": [
       "                                                 title    price  expenses  \\\n",
       "420  Departamento en Alquiler, Nueva Cordoba, Mono ...  12000.0    2100.0   \n",
       "349  Departamento en Alquiler de 1 Dormitorio en Nu...  15000.0    2857.0   \n",
       "51   Departamento en Alquiler - 1 Dormitorio - Zona...  16000.0    2500.0   \n",
       "306  Alquila: Dpto 1 Drmitorio con Balcon / Nueva C...  14000.0    2666.0   \n",
       "450  Departamento en Alquiler de 1 Dormitorio S - B...  14500.0    4700.0   \n",
       "471       Departamento en Alquiler Obispo Salguero 400  14500.0    5400.0   \n",
       "232  Dpto Monoamb. Alquiler Nva Cordoba Chacabuco 3...   9500.0    4700.0   \n",
       "242                  Alquilo 1 Dorm Nva Cba con Balcón  15000.0    4500.0   \n",
       "292  Alquila: Dpto 1 Dormitorio con 2 Balcones / Nu...  15000.0    2857.0   \n",
       "416  Hermoso Dpto a m de Parque Las Tejas - B° Nuev...  16900.0    4100.0   \n",
       "351                            Departamento en Nva Cba  13500.0    4600.0   \n",
       "39                 Cofico - un Dormitorio Sobre Bedoya  14000.0    3300.0   \n",
       "316    Excelente Ubicacion - Pisos Alto - Muy Luminoso  17000.0    3238.0   \n",
       "260  Departamento un Dormitorio Alquiler Nueva Córdoba  14000.0    2666.0   \n",
       "334  Ciudad Universitaria Frente Nueva Manzana Come...  13000.0    2000.0   \n",
       "\n",
       "     total_surface balcony_and_terrace  estimated_price  \n",
       "420           35.0                none     19559.820312  \n",
       "349           46.0             balcony     24588.085938  \n",
       "51            45.0             balcony     25211.779297  \n",
       "306           50.0             balcony     22051.390625  \n",
       "450           45.0             balcony     25211.779297  \n",
       "471           55.0             balcony     25887.771484  \n",
       "232           45.0                none     18466.951172  \n",
       "242           45.0             balcony     25211.779297  \n",
       "292           45.0             balcony     22957.234375  \n",
       "416           70.0                none     26775.568359  \n",
       "351           45.0             balcony     22957.234375  \n",
       "39            40.0             balcony     21746.689453  \n",
       "316           55.0             balcony     25433.443359  \n",
       "260           48.0             balcony     20909.875000  \n",
       "334           35.0                none     18767.998047  "
      ]
     },
     "execution_count": 12,
     "metadata": {},
     "output_type": "execute_result"
    }
   ],
   "source": [
    "(df.sort_values('pct_estimated_minus_real', ascending=False)\n",
    "   .loc[:, ['title', 'price', 'expenses', 'total_surface', 'balcony_and_terrace', 'estimated_price']]\n",
    "   .head(15))"
   ]
  }
 ],
 "metadata": {
  "kernelspec": {
   "display_name": "Python 3",
   "language": "python",
   "name": "python3"
  },
  "language_info": {
   "codemirror_mode": {
    "name": "ipython",
    "version": 3
   },
   "file_extension": ".py",
   "mimetype": "text/x-python",
   "name": "python",
   "nbconvert_exporter": "python",
   "pygments_lexer": "ipython3",
   "version": "3.9.2"
  }
 },
 "nbformat": 4,
 "nbformat_minor": 5
}
