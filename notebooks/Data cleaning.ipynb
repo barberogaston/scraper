{
 "cells": [
  {
   "cell_type": "markdown",
   "id": "8c69efa0",
   "metadata": {},
   "source": [
    "## Imports"
   ]
  },
  {
   "cell_type": "code",
   "execution_count": 1,
   "id": "baa8f883",
   "metadata": {},
   "outputs": [],
   "source": [
    "import matplotlib.pyplot as plt\n",
    "import numpy as np\n",
    "import pandas as pd\n",
    "import pymysql\n",
    "import pymysql.cursors\n",
    "import seaborn as sns\n",
    "from scipy import stats\n",
    "\n",
    "sns.set_style('darkgrid')\n",
    "sns.set_theme(palette='ocean_r')\n",
    "pd.set_option('display.max_colwidth', None)"
   ]
  },
  {
   "cell_type": "markdown",
   "id": "28f07627",
   "metadata": {},
   "source": [
    "## Data loading"
   ]
  },
  {
   "cell_type": "markdown",
   "id": "c0084aa1",
   "metadata": {},
   "source": [
    "Connect to database"
   ]
  },
  {
   "cell_type": "code",
   "execution_count": 2,
   "id": "e3487fe4",
   "metadata": {},
   "outputs": [],
   "source": [
    "conn = pymysql.connect(user='root',\n",
    "                       password='rootpass',\n",
    "                       host='database',\n",
    "                       port=3306,\n",
    "                       database='scraper',\n",
    "                       charset='utf8',\n",
    "                       cursorclass=pymysql.cursors.DictCursor)"
   ]
  },
  {
   "cell_type": "markdown",
   "id": "bc6da654",
   "metadata": {},
   "source": [
    "Read the data and store in dataframe"
   ]
  },
  {
   "cell_type": "code",
   "execution_count": 3,
   "id": "447efdd9",
   "metadata": {},
   "outputs": [],
   "source": [
    "with conn.cursor() as cursor:\n",
    "    cursor.execute('SELECT * FROM rentals;')\n",
    "    data = cursor.fetchall()\n",
    "\n",
    "df = pd.DataFrame(data)"
   ]
  },
  {
   "cell_type": "markdown",
   "id": "d8976548",
   "metadata": {},
   "source": [
    "Add `has_balcony_and_terrace` field"
   ]
  },
  {
   "cell_type": "code",
   "execution_count": 4,
   "id": "6cdb136f",
   "metadata": {},
   "outputs": [],
   "source": [
    "df.loc[:, 'has_balcony_and_terrace'] = df['has_balcony'] & df['has_terrace']"
   ]
  },
  {
   "cell_type": "markdown",
   "id": "598f2bc0",
   "metadata": {},
   "source": [
    "Add `balcony_and_terrace` column"
   ]
  },
  {
   "cell_type": "code",
   "execution_count": 5,
   "id": "40c1a15a",
   "metadata": {},
   "outputs": [],
   "source": [
    "def balcony_and_terrace(row):\n",
    "    if row['has_balcony_and_terrace'] == 1: return 'balcony_and_terrace'\n",
    "    if row['has_balcony'] == 1: return 'balcony'\n",
    "    if row['has_terrace'] == 1: return 'terrace'\n",
    "    return 'none'\n",
    "\n",
    "df.loc[:, 'balcony_and_terrace'] = df.apply(balcony_and_terrace, axis=1)"
   ]
  },
  {
   "cell_type": "markdown",
   "id": "04d2ab3b",
   "metadata": {},
   "source": [
    "## Treating outliers"
   ]
  },
  {
   "cell_type": "markdown",
   "id": "8aa0876d",
   "metadata": {},
   "source": [
    "### Price\n",
    "\n",
    "By looking at the `price` statistics we can clearly see there are some outliers."
   ]
  },
  {
   "cell_type": "code",
   "execution_count": 6,
   "id": "0c05a7f7",
   "metadata": {},
   "outputs": [
    {
     "data": {
      "text/plain": [
       "count       605.000000\n",
       "mean      20859.223140\n",
       "std       11189.737266\n",
       "min        2500.000000\n",
       "25%       15650.000000\n",
       "50%       17500.000000\n",
       "75%       23000.000000\n",
       "max      155000.000000\n",
       "Name: price, dtype: float64"
      ]
     },
     "execution_count": 6,
     "metadata": {},
     "output_type": "execute_result"
    }
   ],
   "source": [
    "df['price'].describe()"
   ]
  },
  {
   "cell_type": "markdown",
   "id": "464221f7",
   "metadata": {},
   "source": [
    "By looking at the distribution we can see there is some **positive skew**."
   ]
  },
  {
   "cell_type": "code",
   "execution_count": 7,
   "id": "7aaa5957",
   "metadata": {},
   "outputs": [
    {
     "data": {
      "text/plain": [
       "Text(0.5, 0, 'Price')"
      ]
     },
     "execution_count": 7,
     "metadata": {},
     "output_type": "execute_result"
    },
    {
     "data": {
      "image/png": "[encoded data removed]",
      "text/plain": [
       "<Figure size 432x288 with 1 Axes>"
      ]
     },
     "metadata": {},
     "output_type": "display_data"
    }
   ],
   "source": [
    "_, ax = plt.subplots()\n",
    "\n",
    "sns.histplot(data=df, x='price')\n",
    "\n",
    "ax.set_xlabel('Price')"
   ]
  },
  {
   "cell_type": "markdown",
   "id": "e756f133",
   "metadata": {},
   "source": [
    "We can transform the data with a **Box-Cox transform** in order to shape it as closely to normal as possible."
   ]
  },
  {
   "cell_type": "code",
   "execution_count": 8,
   "id": "1326c667",
   "metadata": {},
   "outputs": [
    {
     "data": {
      "text/plain": [
       "Text(0.5, 0, 'Price (log)')"
      ]
     },
     "execution_count": 8,
     "metadata": {},
     "output_type": "execute_result"
    },
    {
     "data": {
      "image/png": "[encoded data removed]",
      "text/plain": [
       "<Figure size 432x288 with 1 Axes>"
      ]
     },
     "metadata": {},
     "output_type": "display_data"
    }
   ],
   "source": [
    "price = df['price']\n",
    "transform = stats.boxcox(price, 0)\n",
    "\n",
    "_, ax = plt.subplots()\n",
    "sns.histplot(transform, ax=ax)\n",
    "ax.axvline(transform.mean(), ls='-.', label='Mean', color='#E59155')\n",
    "ax.legend()\n",
    "ax.set_xlabel('Price (log)')"
   ]
  },
  {
   "cell_type": "markdown",
   "id": "bd5cf2b8",
   "metadata": {},
   "source": [
    "Now we can apply basic statistics to remove outliers by using the `z-score`. This distribution seems much more reasonable."
   ]
  },
  {
   "cell_type": "code",
   "execution_count": 9,
   "id": "ef18f2ab",
   "metadata": {},
   "outputs": [
    {
     "data": {
      "text/plain": [
       "Text(0.5, 0, 'Price')"
      ]
     },
     "execution_count": 9,
     "metadata": {},
     "output_type": "execute_result"
    },
    {
     "data": {
      "image/png": "[encoded data removed]",
      "text/plain": [
       "<Figure size 432x288 with 1 Axes>"
      ]
     },
     "metadata": {},
     "output_type": "display_data"
    }
   ],
   "source": [
    "z = (transform - transform.mean()) / transform.std()\n",
    "mask = (z >= -3) & (z <= 3)\n",
    "price_without_outliers = price[mask]\n",
    "\n",
    "_, ax = plt.subplots()\n",
    "sns.histplot(price_without_outliers, ax=ax)\n",
    "ax.axvline(price_without_outliers.mean(), ls='-.', label='Mean', color='#E59155')\n",
    "ax.legend()\n",
    "ax.set_xlabel('Price')"
   ]
  },
  {
   "cell_type": "markdown",
   "id": "9d096177",
   "metadata": {},
   "source": [
    "Finally, drop them from the original dataset"
   ]
  },
  {
   "cell_type": "code",
   "execution_count": 10,
   "id": "d6589437",
   "metadata": {},
   "outputs": [],
   "source": [
    "df = df.loc[mask].copy()"
   ]
  },
  {
   "cell_type": "markdown",
   "id": "d6399279",
   "metadata": {},
   "source": [
    "### Expenses\n",
    "\n",
    "We can do the same for `expenses`, as wee see some outliers in the statistics."
   ]
  },
  {
   "cell_type": "code",
   "execution_count": 11,
   "id": "54d45b7f",
   "metadata": {},
   "outputs": [
    {
     "data": {
      "text/plain": [
       "count      497.000000\n",
       "mean      4705.845070\n",
       "std       1973.739773\n",
       "min          4.000000\n",
       "25%       3500.000000\n",
       "50%       4277.000000\n",
       "75%       5500.000000\n",
       "max      16000.000000\n",
       "Name: expenses, dtype: float64"
      ]
     },
     "execution_count": 11,
     "metadata": {},
     "output_type": "execute_result"
    }
   ],
   "source": [
    "df['expenses'].describe()"
   ]
  },
  {
   "cell_type": "markdown",
   "id": "bbcb80c9",
   "metadata": {},
   "source": [
    "Distribution"
   ]
  },
  {
   "cell_type": "code",
   "execution_count": 12,
   "id": "b0a7cdbc",
   "metadata": {},
   "outputs": [
    {
     "data": {
      "text/plain": [
       "Text(0.5, 0, 'Expenses')"
      ]
     },
     "execution_count": 12,
     "metadata": {},
     "output_type": "execute_result"
    },
    {
     "data": {
      "image/png": "[encoded data removed]",
      "text/plain": [
       "<Figure size 432x288 with 1 Axes>"
      ]
     },
     "metadata": {},
     "output_type": "display_data"
    }
   ],
   "source": [
    "_, ax = plt.subplots()\n",
    "\n",
    "sns.histplot(data=df, x='expenses')\n",
    "\n",
    "ax.set_xlabel('Expenses')"
   ]
  },
  {
   "cell_type": "markdown",
   "id": "563fd455",
   "metadata": {},
   "source": [
    "By looking at the distribution, we can see that there is actually 1 unique data point that seems to be an outlier. For simplicity, we'll remove this unique point."
   ]
  },
  {
   "cell_type": "code",
   "execution_count": 13,
   "id": "397afee8",
   "metadata": {},
   "outputs": [],
   "source": [
    "mask = df['expenses'] != 4\n",
    "df = df.loc[mask].copy()"
   ]
  },
  {
   "cell_type": "markdown",
   "id": "5c317f91",
   "metadata": {},
   "source": [
    "We can see the distribution makes much more sense now"
   ]
  },
  {
   "cell_type": "code",
   "execution_count": 14,
   "id": "d9b1bc4a",
   "metadata": {},
   "outputs": [
    {
     "data": {
      "text/plain": [
       "Text(0.5, 0, 'Expenses')"
      ]
     },
     "execution_count": 14,
     "metadata": {},
     "output_type": "execute_result"
    },
    {
     "data": {
      "image/png": "[encoded data removed]",
      "text/plain": [
       "<Figure size 432x288 with 1 Axes>"
      ]
     },
     "metadata": {},
     "output_type": "display_data"
    }
   ],
   "source": [
    "_, ax = plt.subplots()\n",
    "\n",
    "sns.histplot(data=df, x='expenses')\n",
    "\n",
    "ax.set_xlabel('Expenses')"
   ]
  },
  {
   "cell_type": "markdown",
   "id": "63cff6d8",
   "metadata": {},
   "source": [
    "### Price and expenses\n",
    "\n",
    "Let's do a sanity check to see if all `expense` are lower than their `price`s"
   ]
  },
  {
   "cell_type": "code",
   "execution_count": 15,
   "id": "a2394d6c",
   "metadata": {},
   "outputs": [
    {
     "data": {
      "text/html": [
       "<div>\n",
       "<style scoped>\n",
       "    .dataframe tbody tr th:only-of-type {\n",
       "        vertical-align: middle;\n",
       "    }\n",
       "\n",
       "    .dataframe tbody tr th {\n",
       "        vertical-align: top;\n",
       "    }\n",
       "\n",
       "    .dataframe thead th {\n",
       "        text-align: right;\n",
       "    }\n",
       "</style>\n",
       "<table border=\"1\" class=\"dataframe\">\n",
       "  <thead>\n",
       "    <tr style=\"text-align: right;\">\n",
       "      <th></th>\n",
       "      <th>title</th>\n",
       "      <th>description</th>\n",
       "      <th>extras</th>\n",
       "      <th>price</th>\n",
       "      <th>expenses</th>\n",
       "      <th>location</th>\n",
       "      <th>link</th>\n",
       "      <th>total_surface</th>\n",
       "      <th>covered_surface</th>\n",
       "      <th>rooms</th>\n",
       "      <th>has_balcony</th>\n",
       "      <th>has_terrace</th>\n",
       "      <th>has_garage</th>\n",
       "      <th>is_studio_apartment</th>\n",
       "      <th>has_balcony_and_terrace</th>\n",
       "      <th>balcony_and_terrace</th>\n",
       "    </tr>\n",
       "  </thead>\n",
       "  <tbody>\n",
       "  </tbody>\n",
       "</table>\n",
       "</div>"
      ],
      "text/plain": [
       "Empty DataFrame\n",
       "Columns: [title, description, extras, price, expenses, location, link, total_surface, covered_surface, rooms, has_balcony, has_terrace, has_garage, is_studio_apartment, has_balcony_and_terrace, balcony_and_terrace]\n",
       "Index: []"
      ]
     },
     "execution_count": 15,
     "metadata": {},
     "output_type": "execute_result"
    }
   ],
   "source": [
    "df.query('expenses >= price')"
   ]
  },
  {
   "cell_type": "markdown",
   "id": "d9367ac6",
   "metadata": {},
   "source": [
    "And some plotting just to be sure"
   ]
  },
  {
   "cell_type": "code",
   "execution_count": 16,
   "id": "4722e92f",
   "metadata": {},
   "outputs": [
    {
     "data": {
      "text/plain": [
       "(0.0, 17000.0)"
      ]
     },
     "execution_count": 16,
     "metadata": {},
     "output_type": "execute_result"
    },
    {
     "data": {
      "image/png": "[encoded data removed]",
      "text/plain": [
       "<Figure size 432x288 with 1 Axes>"
      ]
     },
     "metadata": {},
     "output_type": "display_data"
    }
   ],
   "source": [
    "_, ax = plt.subplots()\n",
    "\n",
    "sns.scatterplot(data=df, x='price', y='expenses', ax=ax)\n",
    "\n",
    "ax.set_xlabel('Price')\n",
    "ax.set_ylabel('Expenses')\n",
    "\n",
    "ax.set_xlim(0, 60000)\n",
    "ax.set_ylim(0, 17000)"
   ]
  },
  {
   "cell_type": "markdown",
   "id": "6f7b8236",
   "metadata": {},
   "source": [
    "### Surfaces\n",
    "\n",
    "Since both `total_surface` and `covered_surface` are pretty similar, we can analyse both at the same time. To get some notion, we can plot both:"
   ]
  },
  {
   "cell_type": "code",
   "execution_count": 17,
   "id": "0c748bf3",
   "metadata": {},
   "outputs": [
    {
     "data": {
      "text/plain": [
       "Text(0, 0.5, 'Total surface')"
      ]
     },
     "execution_count": 17,
     "metadata": {},
     "output_type": "execute_result"
    },
    {
     "data": {
      "image/png": "[encoded data removed]",
      "text/plain": [
       "<Figure size 432x288 with 1 Axes>"
      ]
     },
     "metadata": {},
     "output_type": "display_data"
    }
   ],
   "source": [
    "_, ax = plt.subplots()\n",
    "\n",
    "sns.scatterplot(\n",
    "    data=df,\n",
    "    x='covered_surface',\n",
    "    y='total_surface',\n",
    "    palette='tab20',\n",
    "    ax=ax\n",
    ")\n",
    "\n",
    "ax.set_xlabel('Covered surface')\n",
    "ax.set_ylabel('Total surface')"
   ]
  },
  {
   "cell_type": "markdown",
   "id": "b07f5e74",
   "metadata": {},
   "source": [
    "So, from this plot we can see some weird surfaces:\n",
    "- A 500 `total_surface`\n",
    "- A value of 2000 for a `total_surface`\n",
    "- A value of over 6000 for a `covered_surface`\n",
    "- Values of 1 for both `covered_surface` and `total_surface`"
   ]
  },
  {
   "cell_type": "markdown",
   "id": "5e9d746f",
   "metadata": {},
   "source": [
    "> _manual reviewing done here, skipped for simplicity..._"
   ]
  },
  {
   "cell_type": "code",
   "execution_count": 18,
   "id": "2f8c3a0e",
   "metadata": {},
   "outputs": [],
   "source": [
    "df.loc[9, 'total_surface'] = df.loc[9, 'covered_surface']\n",
    "df.loc[598, 'total_surface'] = df.loc[598, 'covered_surface']\n",
    "df.loc[327, 'total_surface'] = df.loc[327, 'covered_surface']\n",
    "df.loc[393, 'total_surface'] = df.loc[393, 'covered_surface']\n",
    "mask = df['total_surface'] < df['covered_surface']\n",
    "df.loc[mask, 'total_surface'] = df.loc[mask, 'covered_surface']\n",
    "df = df.query('total_surface >= 17 and covered_surface < 6000').copy()"
   ]
  },
  {
   "cell_type": "markdown",
   "id": "dbe4d749",
   "metadata": {},
   "source": [
    "Let's plot again to check the values"
   ]
  },
  {
   "cell_type": "code",
   "execution_count": 19,
   "id": "1fb451a6",
   "metadata": {},
   "outputs": [
    {
     "data": {
      "text/plain": [
       "Text(0, 0.5, 'Total surface')"
      ]
     },
     "execution_count": 19,
     "metadata": {},
     "output_type": "execute_result"
    },
    {
     "data": {
      "image/png": "[encoded data removed]",
      "text/plain": [
       "<Figure size 432x288 with 1 Axes>"
      ]
     },
     "metadata": {},
     "output_type": "display_data"
    }
   ],
   "source": [
    "_, ax = plt.subplots()\n",
    "\n",
    "sns.scatterplot(\n",
    "    data=df,\n",
    "    x='covered_surface',\n",
    "    y='total_surface',\n",
    "    palette='tab20',\n",
    "    ax=ax\n",
    ")\n",
    "\n",
    "ax.set_xlabel('Covered surface')\n",
    "ax.set_ylabel('Total surface')"
   ]
  },
  {
   "cell_type": "markdown",
   "id": "dc4b7015",
   "metadata": {},
   "source": [
    "### Rooms\n",
    "\n",
    "Lastly, let's check the `rooms`. First, some statistics"
   ]
  },
  {
   "cell_type": "code",
   "execution_count": 20,
   "id": "c6d729a2",
   "metadata": {},
   "outputs": [
    {
     "data": {
      "text/html": [
       "<div>\n",
       "<style scoped>\n",
       "    .dataframe tbody tr th:only-of-type {\n",
       "        vertical-align: middle;\n",
       "    }\n",
       "\n",
       "    .dataframe tbody tr th {\n",
       "        vertical-align: top;\n",
       "    }\n",
       "\n",
       "    .dataframe thead th {\n",
       "        text-align: right;\n",
       "    }\n",
       "</style>\n",
       "<table border=\"1\" class=\"dataframe\">\n",
       "  <thead>\n",
       "    <tr style=\"text-align: right;\">\n",
       "      <th></th>\n",
       "      <th>counts</th>\n",
       "      <th>freqs</th>\n",
       "    </tr>\n",
       "    <tr>\n",
       "      <th>categories</th>\n",
       "      <th></th>\n",
       "      <th></th>\n",
       "    </tr>\n",
       "  </thead>\n",
       "  <tbody>\n",
       "    <tr>\n",
       "      <th>1.0</th>\n",
       "      <td>84</td>\n",
       "      <td>0.175000</td>\n",
       "    </tr>\n",
       "    <tr>\n",
       "      <th>2.0</th>\n",
       "      <td>233</td>\n",
       "      <td>0.485417</td>\n",
       "    </tr>\n",
       "    <tr>\n",
       "      <th>3.0</th>\n",
       "      <td>105</td>\n",
       "      <td>0.218750</td>\n",
       "    </tr>\n",
       "    <tr>\n",
       "      <th>4.0</th>\n",
       "      <td>24</td>\n",
       "      <td>0.050000</td>\n",
       "    </tr>\n",
       "    <tr>\n",
       "      <th>5.0</th>\n",
       "      <td>10</td>\n",
       "      <td>0.020833</td>\n",
       "    </tr>\n",
       "    <tr>\n",
       "      <th>6.0</th>\n",
       "      <td>2</td>\n",
       "      <td>0.004167</td>\n",
       "    </tr>\n",
       "    <tr>\n",
       "      <th>8.0</th>\n",
       "      <td>1</td>\n",
       "      <td>0.002083</td>\n",
       "    </tr>\n",
       "    <tr>\n",
       "      <th>NaN</th>\n",
       "      <td>21</td>\n",
       "      <td>0.043750</td>\n",
       "    </tr>\n",
       "  </tbody>\n",
       "</table>\n",
       "</div>"
      ],
      "text/plain": [
       "            counts     freqs\n",
       "categories                  \n",
       "1.0             84  0.175000\n",
       "2.0            233  0.485417\n",
       "3.0            105  0.218750\n",
       "4.0             24  0.050000\n",
       "5.0             10  0.020833\n",
       "6.0              2  0.004167\n",
       "8.0              1  0.002083\n",
       "NaN             21  0.043750"
      ]
     },
     "execution_count": 20,
     "metadata": {},
     "output_type": "execute_result"
    }
   ],
   "source": [
    "pd.Categorical(df['rooms']).describe()"
   ]
  },
  {
   "cell_type": "markdown",
   "id": "5fbb40b0",
   "metadata": {},
   "source": [
    "Let's now check agains the `total_surface`, assuming the more rooms, the higher the surface"
   ]
  },
  {
   "cell_type": "code",
   "execution_count": 21,
   "id": "685b032b",
   "metadata": {},
   "outputs": [
    {
     "data": {
      "text/plain": [
       "Text(0, 0.5, 'Covered surface')"
      ]
     },
     "execution_count": 21,
     "metadata": {},
     "output_type": "execute_result"
    },
    {
     "data": {
      "image/png": "[encoded data removed]",
      "text/plain": [
       "<Figure size 432x288 with 1 Axes>"
      ]
     },
     "metadata": {},
     "output_type": "display_data"
    }
   ],
   "source": [
    "_, ax = plt.subplots()\n",
    "\n",
    "sns.boxplot(data=df, x='rooms', y='covered_surface', palette='tab20c', ax=ax)\n",
    "ax.set_xlabel('Rooms')\n",
    "ax.set_ylabel('Covered surface')"
   ]
  },
  {
   "cell_type": "markdown",
   "id": "948e7106",
   "metadata": {},
   "source": [
    "There seems to be something strange with some 5 `room` apartments."
   ]
  },
  {
   "cell_type": "markdown",
   "id": "0e75b54c",
   "metadata": {},
   "source": [
    "> _Did some manual checking and everything seemed ok..._"
   ]
  },
  {
   "cell_type": "markdown",
   "id": "464957ca",
   "metadata": {},
   "source": [
    "## Exporting to parquet\n",
    "\n",
    "After cleaning the data, we export it to a parquet file."
   ]
  },
  {
   "cell_type": "code",
   "execution_count": 22,
   "id": "8f4327bb",
   "metadata": {},
   "outputs": [],
   "source": [
    "df.to_parquet('clean_data.parquet', index=False)"
   ]
  }
 ],
 "metadata": {
  "kernelspec": {
   "display_name": "Python 3",
   "language": "python",
   "name": "python3"
  },
  "language_info": {
   "codemirror_mode": {
    "name": "ipython",
    "version": 3
   },
   "file_extension": ".py",
   "mimetype": "text/x-python",
   "name": "python",
   "nbconvert_exporter": "python",
   "pygments_lexer": "ipython3",
   "version": "3.9.2"
  }
 },
 "nbformat": 4,
 "nbformat_minor": 5
}
